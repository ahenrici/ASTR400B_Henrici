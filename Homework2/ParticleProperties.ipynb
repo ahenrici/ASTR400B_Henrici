{
 "cells": [
  {
   "cell_type": "code",
   "execution_count": 1,
   "metadata": {},
   "outputs": [],
   "source": [
    "from numpy import around, where, sqrt\n",
    "from astropy import units as u\n",
    "from ReadFile import read"
   ]
  },
  {
   "cell_type": "code",
   "execution_count": 2,
   "metadata": {},
   "outputs": [],
   "source": [
    "def ParticleInfo(PType, PNum, FileName):\n",
    "    # Grab the time, number of particles, \n",
    "    # and data from the input file\n",
    "    time, N_particles, data = read(FileName)\n",
    "    \n",
    "    # Grab the data for a specific type\n",
    "    index = where(data['type'] == PType)\n",
    "    Particle = data[index]\n",
    "    \n",
    "    # Get mass[Msun], 3D pos[kpc], and 3D velocity[km/s] \n",
    "    # of the selected particles and round to 3 decimal places\n",
    "    mass = Particle['m'][PNum - 1] * 1e10 * u.Msun\n",
    "    pos = around([Particle['x'][PNum - 1], \n",
    "                  Particle['y'][PNum - 1],\n",
    "                  Particle['z'][PNum - 1]] * u.kpc, 3)\n",
    "    vel = around([Particle['vx'][PNum - 1], \n",
    "                  Particle['vy'][PNum - 1],\n",
    "                  Particle['vz'][PNum - 1]] * u.km/u.s, 3)\n",
    "    \n",
    "    return pos, vel, mass"
   ]
  },
  {
   "cell_type": "code",
   "execution_count": 3,
   "metadata": {},
   "outputs": [],
   "source": [
    "# Dictionary for types of particles and their reference number\n",
    "types = {'Dark Matter': 1, 'Disk': 2, 'Bulge': 3}"
   ]
  },
  {
   "cell_type": "code",
   "execution_count": 6,
   "metadata": {},
   "outputs": [],
   "source": [
    "# Find the properties for the 100th disk particle in MW_000.txt\n",
    "pos, vel, mass = ParticleInfo(types['Disk'], 100, 'MW_000.txt')"
   ]
  },
  {
   "cell_type": "code",
   "execution_count": 7,
   "metadata": {},
   "outputs": [
    {
     "name": "stdout",
     "output_type": "stream",
     "text": [
      "13844.271 lyr 312.135 km / s 1000000.0 solMass\n"
     ]
    }
   ],
   "source": [
    "# Find the values for the 100th particle with magnitudes\n",
    "print(around(sqrt(pos[0]**2 + pos[1]**2 + pos[2]**2).to(u.lyr),3),\\\n",
    "      around(sqrt(vel[0]**2 + vel[1]**2 + vel[2]**2),3),\\\n",
    "      mass)"
   ]
  },
  {
   "cell_type": "code",
   "execution_count": null,
   "metadata": {},
   "outputs": [],
   "source": []
  }
 ],
 "metadata": {
  "kernelspec": {
   "display_name": "Python 3",
   "language": "python",
   "name": "python3"
  },
  "language_info": {
   "codemirror_mode": {
    "name": "ipython",
    "version": 3
   },
   "file_extension": ".py",
   "mimetype": "text/x-python",
   "name": "python",
   "nbconvert_exporter": "python",
   "pygments_lexer": "ipython3",
   "version": "3.5.2"
  }
 },
 "nbformat": 4,
 "nbformat_minor": 2
}
