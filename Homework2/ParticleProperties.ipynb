{
 "cells": [
  {
   "cell_type": "code",
   "execution_count": 31,
   "metadata": {},
   "outputs": [],
   "source": [
    "from numpy import around, where, sqrt\n",
    "from astropy import units as u\n",
    "from ReadFile import read"
   ]
  },
  {
   "cell_type": "code",
   "execution_count": 26,
   "metadata": {},
   "outputs": [],
   "source": [
    "def ParticleInfo(type):\n",
    "    # Grab the data for a specific type\n",
    "    index = where(around(data['type'], 3) == type)\n",
    "    Particle = data[index]\n",
    "    \n",
    "    # Get mass[Msun], 3D pos[kpc], and 3D velocity[km/s] of the selected particles\n",
    "    mass = around(Particle['m'] * 1e10 * u.Msun, 3)\n",
    "    pos = around([Particle['x'], Particle['y'], Particle['z']] * u.kpc, 3)\n",
    "    vel = around([Particle['vx'], Particle['vy'], Particle['vz']] * u.km/u.s, 3)\n",
    "    \n",
    "    return pos, vel, mass"
   ]
  },
  {
   "cell_type": "code",
   "execution_count": 27,
   "metadata": {},
   "outputs": [],
   "source": [
    "# Grab the time, number of particles and data from the input file\n",
    "time, N_particles, data = read('MW_000.txt')"
   ]
  },
  {
   "cell_type": "code",
   "execution_count": 28,
   "metadata": {},
   "outputs": [],
   "source": [
    "# Find the properties for disk particles\n",
    "pos, vel, mass = ParticleInfo(2.000)"
   ]
  },
  {
   "cell_type": "code",
   "execution_count": 29,
   "metadata": {},
   "outputs": [
    {
     "name": "stdout",
     "output_type": "stream",
     "text": [
      "[ -6894.946  10388.081  -6017.585] lyr [ -21.082  307.078  -51.838] km / s 1000000.0 solMass\n"
     ]
    }
   ],
   "source": [
    "# Find the values for the 100th particle with vector components\n",
    "print(around(pos[:,99].to(u.lyr),3), vel[:,99], mass[99])"
   ]
  },
  {
   "cell_type": "code",
   "execution_count": 32,
   "metadata": {},
   "outputs": [
    {
     "name": "stdout",
     "output_type": "stream",
     "text": [
      "4.245 kpc 312.135 km / s 1000000.0 solMass\n"
     ]
    }
   ],
   "source": [
    "# Find the values for the 100th particle with magnitudes\n",
    "print(around(sqrt(pos[0,99]**2 + pos[1,99]**2 + pos[2,99]**2),3),\\\n",
    "      around(sqrt(vel[0,99]**2 + vel[1,99]**2 + vel[2,99]**2),3),\\\n",
    "      mass[99])"
   ]
  }
 ],
 "metadata": {
  "kernelspec": {
   "display_name": "Python 3",
   "language": "python",
   "name": "python3"
  },
  "language_info": {
   "codemirror_mode": {
    "name": "ipython",
    "version": 3
   },
   "file_extension": ".py",
   "mimetype": "text/x-python",
   "name": "python",
   "nbconvert_exporter": "python",
   "pygments_lexer": "ipython3",
   "version": "3.5.2"
  }
 },
 "nbformat": 4,
 "nbformat_minor": 2
}
