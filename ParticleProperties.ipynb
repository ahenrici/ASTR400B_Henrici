{
 "cells": [
  {
   "cell_type": "code",
   "execution_count": 10,
   "metadata": {},
   "outputs": [],
   "source": [
    "import numpy as np\n",
    "from astropy import units as u\n",
    "from ReadFile import Read"
   ]
  },
  {
   "cell_type": "code",
   "execution_count": 11,
   "metadata": {},
   "outputs": [
    {
     "name": "stdout",
     "output_type": "stream",
     "text": [
      "1.0\n"
     ]
    }
   ],
   "source": [
    "# Grab the time, number of particles and data from the input file\n",
    "time, N_particles, data = Read('MW_000.txt')"
   ]
  },
  {
   "cell_type": "code",
   "execution_count": 19,
   "metadata": {},
   "outputs": [
    {
     "name": "stdout",
     "output_type": "stream",
     "text": [
      "[ ( 1.,  0.00394985,   -2.51725 ,   19.1588 ,   52.8528,    0.134962,  116.109   ,  -85.3822)\n",
      " ( 1.,  0.00394985, -286.601   ,  298.455  ,  391.692 ,   50.2658  ,  -46.4521  ,   15.1825)\n",
      " ( 1.,  0.00394985,   -0.505945,  -28.6337 ,  -83.9565,   11.3833  ,   -0.974253,  -39.3509)\n",
      " ...,\n",
      " ( 1.,  0.00394985,  136.385   ,  132.313  ,  -27.288 ,  -37.9605  ,  -17.2106  ,   91.7515)\n",
      " ( 1.,  0.00394985, -308.77    , -147.338  , -132.679 ,  117.613   ,  -14.3048  ,   43.5018)\n",
      " ( 1.,  0.00394985,  -63.3878  ,    5.13775,  -39.4569,   55.2651  ,   16.1504  ,  151.645 )]\n"
     ]
    }
   ],
   "source": [
    "# Grab all particles that are dark matter\n",
    "index = np.where(np.around(data['type'], 3) == 1.000)\n",
    "DarkMatter = data[index]\n",
    "\n",
    "# Grab all particles that are "
   ]
  },
  {
   "cell_type": "code",
   "execution_count": null,
   "metadata": {},
   "outputs": [],
   "source": []
  }
 ],
 "metadata": {
  "kernelspec": {
   "display_name": "Python 3",
   "language": "python",
   "name": "python3"
  },
  "language_info": {
   "codemirror_mode": {
    "name": "ipython",
    "version": 3
   },
   "file_extension": ".py",
   "mimetype": "text/x-python",
   "name": "python",
   "nbconvert_exporter": "python",
   "pygments_lexer": "ipython3",
   "version": "3.5.2"
  }
 },
 "nbformat": 4,
 "nbformat_minor": 2
}
